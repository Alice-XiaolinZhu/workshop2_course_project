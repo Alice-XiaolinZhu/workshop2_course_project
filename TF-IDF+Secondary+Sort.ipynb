{
 "cells": [
  {
   "cell_type": "code",
   "execution_count": 8,
   "metadata": {},
   "outputs": [],
   "source": []
  },
  {
   "cell_type": "code",
   "execution_count": 49,
   "metadata": {},
   "outputs": [],
   "source": [
    "import pandas as pd\n",
    "#/read our data and divide into four columns by sep='\\s+',which defines separator as being one single white space or more\n",
    "Read_file=pd.read_csv(\"test-part.txt\", names=['a','b','c','d'], sep='\\s+')\n",
    "df= pd.DataFrame(Read_file)\n",
    "# Make all words lowercase, because there are both upper and lower case in our data\n",
    "df['a']=df['a'].str.lower()\n",
    "#then sort the df by using two index: Words ascending and TF-IDF values descending\n",
    "Sort = df.sort_values(by=['a','d'],ascending=(True,False))\n",
    "#Then write the file to a new txt\n",
    "Sort.to_csv('text-part-sort.txt', sep=' ', header=False ,index=False)"
   ]
  },
  {
   "cell_type": "code",
   "execution_count": null,
   "metadata": {},
   "outputs": [],
   "source": []
  },
  {
   "cell_type": "code",
   "execution_count": null,
   "metadata": {},
   "outputs": [],
   "source": []
  }
 ],
 "metadata": {
  "kernelspec": {
   "display_name": "Python 3",
   "language": "python",
   "name": "python3"
  },
  "language_info": {
   "codemirror_mode": {
    "name": "ipython",
    "version": 3
   },
   "file_extension": ".py",
   "mimetype": "text/x-python",
   "name": "python",
   "nbconvert_exporter": "python",
   "pygments_lexer": "ipython3",
   "version": "3.7.2"
  }
 },
 "nbformat": 4,
 "nbformat_minor": 2
}
